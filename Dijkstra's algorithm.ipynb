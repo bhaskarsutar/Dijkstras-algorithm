{
 "cells": [
  {
   "cell_type": "markdown",
   "metadata": {},
   "source": [
    "# Dijkstra's algorithm\n",
    "''''''''''''''''''''''''''''''''''''''''''''''''''''''''''''''''''''''''''''''''''''''''''"
   ]
  },
  {
   "cell_type": "markdown",
   "metadata": {},
   "source": [
    "#### Dijkstras algorithm finds the shortest path between nodes in a network"
   ]
  },
  {
   "cell_type": "markdown",
   "metadata": {},
   "source": [
    "In the shortest path problem, we need to determine the shortest distance from a source to all other nodes or vertices in a\n",
    "graph. \n",
    "\n",
    "**Dijkstra's algorithm** is a very prominent method of solving this problem. This algorithm uses a greedy approach to solve the shortest path problem.\n",
    "It starts with the source node and finds the rest of the distances from the source node. Dijkstra’s algorithm keeps track of the currently known distance from the source node to the rest of the nodes and dynamically updates these values if a shorter path is found.\n"
   ]
  },
  {
   "cell_type": "markdown",
   "metadata": {},
   "source": [
    "Consider the following graph:\n",
    "\n",
    "<img src=\"https://s3-whjr-v2-prod-bucket.whjr.online/f1c63514-4715-4b5c-9f6b-9148448ca17c.PNG\"/>"
   ]
  },
  {
   "cell_type": "markdown",
   "metadata": {},
   "source": [
    "#### Dijkstras algorithm :"
   ]
  },
  {
   "cell_type": "code",
   "execution_count": 1,
   "metadata": {},
   "outputs": [
    {
     "name": "stdout",
     "output_type": "stream",
     "text": [
      "Node \tDistance from  0\n",
      "0 \t 0\n",
      "1 \t 2\n",
      "2 \t 6\n",
      "3 \t 7\n",
      "4 \t 17\n",
      "5 \t 22\n",
      "6 \t 19\n"
     ]
    }
   ],
   "source": [
    "class Graph: \n",
    "    # A constructor to iniitialize the values\n",
    "    def __init__(self, nodes):\n",
    "        # distance array initialization\n",
    "        self.distance_array = [0 for i in range(nodes)]\n",
    "        #visited nodes initialization\n",
    "        self.visited = [0 for i in range(nodes)]\n",
    "        #initializing the number of nodes\n",
    "        self.V = nodes\n",
    "        #initializing the infinity value\n",
    "        self.INF = 1000000\n",
    "        #initializing the graph matrix\n",
    "        self.graph = [[0 for column in range(nodes)]  \n",
    "                    for row in range(nodes)]\n",
    "   \n",
    "    def dijkstra(self, srcNode):\n",
    "        for i in range(self.V):\n",
    "          #initialise the distances to infinity first\n",
    "          self.distance_array[i] = self.INF\n",
    "          #set the visited nodes set to false for each node\n",
    "          self.visited[i] = False\n",
    "        #initialise the first distance to 0\n",
    "        self.distance_array[srcNode] = 0\n",
    "        for i in range(self.V): \n",
    "  \n",
    "            # Pick the minimum distance node from  \n",
    "            # the set of nodes not yet processed.  \n",
    "            # u is always equal to srcNode in first iteration \n",
    "            u = self.minDistance(self.distance_array, self.visited) \n",
    "  \n",
    "            # Put the minimum distance node in the  \n",
    "            # visited nodes set\n",
    "            self.visited[u] = True\n",
    "  \n",
    "             # Update dist[v] only if is not in visited, there is an edge from \n",
    "            # u to v, and total weight of path from src to  v through u is \n",
    "            # smaller than current value of dist[v]\n",
    "            for v in range(self.V): \n",
    "                if self.graph[u][v] > 0 and self.visited[v] == False and self.distance_array[v] > self.distance_array[u] + self.graph[u][v]: \n",
    "                        self.distance_array[v] = self.distance_array[u] + self.graph[u][v] \n",
    "  \n",
    "        self.printSolution(self.distance_array, srcNode)\n",
    "\n",
    "    #A utility function to find the node with minimum distance value, from \n",
    "    # the set of nodes not yet included in shortest path tree \n",
    "    def minDistance(self, distance_array, visited): \n",
    "  \n",
    "        # Initilaize minimum distance for next node\n",
    "        min = self.INF\n",
    "  \n",
    "        # Search not nearest node not in the  \n",
    "        # unvisited nodes\n",
    "        for v in range(self.V): \n",
    "            if distance_array[v] < min and visited[v] == False: \n",
    "                min = distance_array[v] \n",
    "                min_index = v \n",
    "  \n",
    "        return min_index\n",
    "\n",
    "    def printSolution(self, distance_array, srcNode): \n",
    "        print (\"Node \\tDistance from \", srcNode)\n",
    "        for i in range(self.V): \n",
    "            print (i, \"\\t\", distance_array[i])\n",
    "\n",
    "# Display our table\n",
    "ourGraph = Graph(7) \n",
    "ourGraph.graph = [[0, 2, 6, 0, 0, 0, 0], \n",
    "        [2, 0, 0, 5, 0, 0, 0], \n",
    "        [6, 6, 0, 8, 0, 0, 0], \n",
    "        [0, 0, 8, 0, 10, 15, 0], \n",
    "        [0, 0, 0, 10, 0, 6, 2], \n",
    "        [0, 0, 0, 15, 6, 0, 6], \n",
    "        [0, 0, 0, 0, 2, 6, 0],\n",
    "        ]; \n",
    "  \n",
    "ourGraph.dijkstra(0)"
   ]
  }
 ],
 "metadata": {
  "kernelspec": {
   "display_name": "Python 3",
   "language": "python",
   "name": "python3"
  },
  "language_info": {
   "codemirror_mode": {
    "name": "ipython",
    "version": 3
   },
   "file_extension": ".py",
   "mimetype": "text/x-python",
   "name": "python",
   "nbconvert_exporter": "python",
   "pygments_lexer": "ipython3",
   "version": "3.8.3"
  }
 },
 "nbformat": 4,
 "nbformat_minor": 4
}
